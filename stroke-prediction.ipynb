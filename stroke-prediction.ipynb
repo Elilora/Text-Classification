{
 "cells": [
  {
   "cell_type": "markdown",
   "id": "e16adcad",
   "metadata": {
    "papermill": {
     "duration": 0.025828,
     "end_time": "2022-06-10T08:22:06.254876",
     "exception": false,
     "start_time": "2022-06-10T08:22:06.229048",
     "status": "completed"
    },
    "tags": []
   },
   "source": [
    "IMPORTING LIBRARIES"
   ]
  },
  {
   "cell_type": "code",
   "execution_count": 1,
   "id": "bbaace08",
   "metadata": {
    "_cell_guid": "b1076dfc-b9ad-4769-8c92-a6c4dae69d19",
    "_uuid": "8f2839f25d086af736a60e9eeb907d3b93b6e0e5",
    "execution": {
     "iopub.execute_input": "2022-06-10T08:22:06.308158Z",
     "iopub.status.busy": "2022-06-10T08:22:06.307035Z",
     "iopub.status.idle": "2022-06-10T08:22:09.657765Z",
     "shell.execute_reply": "2022-06-10T08:22:09.656798Z",
     "shell.execute_reply.started": "2022-05-05T12:03:44.202053Z"
    },
    "papermill": {
     "duration": 3.378259,
     "end_time": "2022-06-10T08:22:09.657985",
     "exception": false,
     "start_time": "2022-06-10T08:22:06.279726",
     "status": "completed"
    },
    "tags": []
   },
   "outputs": [
    {
     "name": "stdout",
     "output_type": "stream",
     "text": [
      "/kaggle/input/stroke-prediction-dataset/healthcare-dataset-stroke-data.csv\n"
     ]
    }
   ],
   "source": [
    "import numpy as np \n",
    "import shap\n",
    "import pandas as pd\n",
    "import seaborn as sns\n",
    "import matplotlib.pyplot as plt\n",
    "from sklearn.preprocessing import StandardScaler, LabelEncoder\n",
    "from sklearn.impute import SimpleImputer\n",
    "from sklearn.model_selection import train_test_split, cross_val_score\n",
    "from sklearn.tree import DecisionTreeClassifier\n",
    "from sklearn.svm import SVC\n",
    "from xgboost import XGBClassifier\n",
    "from sklearn.ensemble import RandomForestClassifier\n",
    "from sklearn.neighbors import KNeighborsClassifier\n",
    "from sklearn.metrics import classification_report, accuracy_score,f1_score, confusion_matrix \n",
    "\n",
    "import os\n",
    "for dirname, _, filenames in os.walk('/kaggle/input'):\n",
    "    for filename in filenames:\n",
    "        print(os.path.join(dirname, filename))\n"
   ]
  },
  {
   "cell_type": "code",
   "execution_count": 2,
   "id": "3a150f7b",
   "metadata": {
    "execution": {
     "iopub.execute_input": "2022-06-10T08:22:09.716128Z",
     "iopub.status.busy": "2022-06-10T08:22:09.715485Z",
     "iopub.status.idle": "2022-06-10T08:22:09.753407Z",
     "shell.execute_reply": "2022-06-10T08:22:09.753954Z",
     "shell.execute_reply.started": "2022-05-05T12:03:44.748357Z"
    },
    "papermill": {
     "duration": 0.069295,
     "end_time": "2022-06-10T08:22:09.754131",
     "exception": false,
     "start_time": "2022-06-10T08:22:09.684836",
     "status": "completed"
    },
    "tags": []
   },
   "outputs": [
    {
     "name": "stdout",
     "output_type": "stream",
     "text": [
      "      id  gender   age  hypertension  heart_disease ever_married  \\\n",
      "0   9046    Male  67.0             0              1          Yes   \n",
      "1  51676  Female  61.0             0              0          Yes   \n",
      "2  31112    Male  80.0             0              1          Yes   \n",
      "3  60182  Female  49.0             0              0          Yes   \n",
      "4   1665  Female  79.0             1              0          Yes   \n",
      "\n",
      "       work_type Residence_type  avg_glucose_level   bmi   smoking_status  \\\n",
      "0        Private          Urban             228.69  36.6  formerly smoked   \n",
      "1  Self-employed          Rural             202.21   NaN     never smoked   \n",
      "2        Private          Rural             105.92  32.5     never smoked   \n",
      "3        Private          Urban             171.23  34.4           smokes   \n",
      "4  Self-employed          Rural             174.12  24.0     never smoked   \n",
      "\n",
      "   stroke  \n",
      "0       1  \n",
      "1       1  \n",
      "2       1  \n",
      "3       1  \n",
      "4       1  \n"
     ]
    }
   ],
   "source": [
    "file=pd.read_csv(\"/kaggle/input/stroke-prediction-dataset/healthcare-dataset-stroke-data.csv\")\n",
    "print(file.head(5))"
   ]
  },
  {
   "cell_type": "code",
   "execution_count": 3,
   "id": "6c5c25df",
   "metadata": {
    "execution": {
     "iopub.execute_input": "2022-06-10T08:22:09.808361Z",
     "iopub.status.busy": "2022-06-10T08:22:09.807664Z",
     "iopub.status.idle": "2022-06-10T08:22:09.820313Z",
     "shell.execute_reply": "2022-06-10T08:22:09.820892Z",
     "shell.execute_reply.started": "2022-05-05T12:03:45.323597Z"
    },
    "papermill": {
     "duration": 0.041499,
     "end_time": "2022-06-10T08:22:09.821059",
     "exception": false,
     "start_time": "2022-06-10T08:22:09.779560",
     "status": "completed"
    },
    "tags": []
   },
   "outputs": [
    {
     "data": {
      "text/plain": [
       "id                     0\n",
       "gender                 0\n",
       "age                    0\n",
       "hypertension           0\n",
       "heart_disease          0\n",
       "ever_married           0\n",
       "work_type              0\n",
       "Residence_type         0\n",
       "avg_glucose_level      0\n",
       "bmi                  201\n",
       "smoking_status         0\n",
       "stroke                 0\n",
       "dtype: int64"
      ]
     },
     "execution_count": 3,
     "metadata": {},
     "output_type": "execute_result"
    }
   ],
   "source": [
    "file.isnull().sum()"
   ]
  },
  {
   "cell_type": "code",
   "execution_count": 4,
   "id": "a2bcd933",
   "metadata": {
    "execution": {
     "iopub.execute_input": "2022-06-10T08:22:09.876658Z",
     "iopub.status.busy": "2022-06-10T08:22:09.875915Z",
     "iopub.status.idle": "2022-06-10T08:22:09.880468Z",
     "shell.execute_reply": "2022-06-10T08:22:09.881039Z",
     "shell.execute_reply.started": "2022-05-05T12:03:45.866489Z"
    },
    "papermill": {
     "duration": 0.03433,
     "end_time": "2022-06-10T08:22:09.881243",
     "exception": false,
     "start_time": "2022-06-10T08:22:09.846913",
     "status": "completed"
    },
    "tags": []
   },
   "outputs": [
    {
     "data": {
      "text/plain": [
       "(5110, 12)"
      ]
     },
     "execution_count": 4,
     "metadata": {},
     "output_type": "execute_result"
    }
   ],
   "source": [
    "file.shape"
   ]
  },
  {
   "cell_type": "code",
   "execution_count": 5,
   "id": "8894aee7",
   "metadata": {
    "execution": {
     "iopub.execute_input": "2022-06-10T08:22:09.940185Z",
     "iopub.status.busy": "2022-06-10T08:22:09.939189Z",
     "iopub.status.idle": "2022-06-10T08:22:09.948188Z",
     "shell.execute_reply": "2022-06-10T08:22:09.948882Z",
     "shell.execute_reply.started": "2022-05-05T12:03:46.330964Z"
    },
    "papermill": {
     "duration": 0.040213,
     "end_time": "2022-06-10T08:22:09.949057",
     "exception": false,
     "start_time": "2022-06-10T08:22:09.908844",
     "status": "completed"
    },
    "tags": []
   },
   "outputs": [],
   "source": [
    "Imputer= SimpleImputer(strategy=\"mean\")\n",
    "file[\"bmi\"]=Imputer.fit_transform(file[\"bmi\"].to_numpy().reshape(-1,1))"
   ]
  },
  {
   "cell_type": "code",
   "execution_count": 6,
   "id": "ed964c15",
   "metadata": {
    "execution": {
     "iopub.execute_input": "2022-06-10T08:22:10.007552Z",
     "iopub.status.busy": "2022-06-10T08:22:10.005307Z",
     "iopub.status.idle": "2022-06-10T08:22:10.255556Z",
     "shell.execute_reply": "2022-06-10T08:22:10.254956Z",
     "shell.execute_reply.started": "2022-05-05T12:03:46.793715Z"
    },
    "papermill": {
     "duration": 0.279936,
     "end_time": "2022-06-10T08:22:10.255711",
     "exception": false,
     "start_time": "2022-06-10T08:22:09.975775",
     "status": "completed"
    },
    "tags": []
   },
   "outputs": [
    {
     "data": {
      "text/plain": [
       "<AxesSubplot:>"
      ]
     },
     "execution_count": 6,
     "metadata": {},
     "output_type": "execute_result"
    },
    {
     "data": {
      "image/png": "[encoded data removed]",
      "text/plain": [
       "<Figure size 432x288 with 1 Axes>"
      ]
     },
     "metadata": {
      "needs_background": "light"
     },
     "output_type": "display_data"
    }
   ],
   "source": [
    "file[\"gender\"].hist()"
   ]
  },
  {
   "cell_type": "code",
   "execution_count": 7,
   "id": "8fcb11f8",
   "metadata": {
    "execution": {
     "iopub.execute_input": "2022-06-10T08:22:10.329253Z",
     "iopub.status.busy": "2022-06-10T08:22:10.315873Z",
     "iopub.status.idle": "2022-06-10T08:22:10.534713Z",
     "shell.execute_reply": "2022-06-10T08:22:10.535238Z",
     "shell.execute_reply.started": "2022-05-05T12:03:47.268035Z"
    },
    "papermill": {
     "duration": 0.252415,
     "end_time": "2022-06-10T08:22:10.535425",
     "exception": false,
     "start_time": "2022-06-10T08:22:10.283010",
     "status": "completed"
    },
    "tags": []
   },
   "outputs": [
    {
     "data": {
      "text/plain": [
       "(array([434., 362., 440., 484., 597., 583., 686., 559., 407., 558.]),\n",
       " array([8.0000e-02, 8.2720e+00, 1.6464e+01, 2.4656e+01, 3.2848e+01,\n",
       "        4.1040e+01, 4.9232e+01, 5.7424e+01, 6.5616e+01, 7.3808e+01,\n",
       "        8.2000e+01]),\n",
       " <BarContainer object of 10 artists>)"
      ]
     },
     "execution_count": 7,
     "metadata": {},
     "output_type": "execute_result"
    },
    {
     "data": {
      "image/png": "[encoded data removed]",
      "text/plain": [
       "<Figure size 432x288 with 1 Axes>"
      ]
     },
     "metadata": {
      "needs_background": "light"
     },
     "output_type": "display_data"
    }
   ],
   "source": [
    "fig,ax=plt.subplots(figsize=(6,4))\n",
    "ax.grid(False)\n",
    "ax.hist(file['age'], bins=10)"
   ]
  },
  {
   "cell_type": "code",
   "execution_count": 8,
   "id": "f781910c",
   "metadata": {
    "execution": {
     "iopub.execute_input": "2022-06-10T08:22:10.597248Z",
     "iopub.status.busy": "2022-06-10T08:22:10.596560Z",
     "iopub.status.idle": "2022-06-10T08:22:10.798099Z",
     "shell.execute_reply": "2022-06-10T08:22:10.798742Z",
     "shell.execute_reply.started": "2022-05-05T12:03:47.769842Z"
    },
    "papermill": {
     "duration": 0.234595,
     "end_time": "2022-06-10T08:22:10.798933",
     "exception": false,
     "start_time": "2022-06-10T08:22:10.564338",
     "status": "completed"
    },
    "tags": []
   },
   "outputs": [
    {
     "data": {
      "text/plain": [
       "(array([4612.,    0.,    0.,    0.,    0.,    0.,    0.,    0.,    0.,\n",
       "         498.]),\n",
       " array([0. , 0.1, 0.2, 0.3, 0.4, 0.5, 0.6, 0.7, 0.8, 0.9, 1. ]),\n",
       " <BarContainer object of 10 artists>)"
      ]
     },
     "execution_count": 8,
     "metadata": {},
     "output_type": "execute_result"
    },
    {
     "data": {
      "image/png": "[encoded data removed]",
      "text/plain": [
       "<Figure size 432x288 with 1 Axes>"
      ]
     },
     "metadata": {
      "needs_background": "light"
     },
     "output_type": "display_data"
    }
   ],
   "source": [
    "fig,ax=plt.subplots(figsize=(6,4))\n",
    "ax.grid(False)\n",
    "ax.hist(file[\"hypertension\"])"
   ]
  },
  {
   "cell_type": "code",
   "execution_count": 9,
   "id": "b0a9d550",
   "metadata": {
    "execution": {
     "iopub.execute_input": "2022-06-10T08:22:10.863279Z",
     "iopub.status.busy": "2022-06-10T08:22:10.862485Z",
     "iopub.status.idle": "2022-06-10T08:22:11.075565Z",
     "shell.execute_reply": "2022-06-10T08:22:11.076046Z",
     "shell.execute_reply.started": "2022-05-05T12:03:48.241841Z"
    },
    "papermill": {
     "duration": 0.245938,
     "end_time": "2022-06-10T08:22:11.076256",
     "exception": false,
     "start_time": "2022-06-10T08:22:10.830318",
     "status": "completed"
    },
    "tags": []
   },
   "outputs": [
    {
     "data": {
      "text/plain": [
       "(array([4834.,    0.,    0.,    0.,    0.,    0.,    0.,    0.,    0.,\n",
       "         276.]),\n",
       " array([0. , 0.1, 0.2, 0.3, 0.4, 0.5, 0.6, 0.7, 0.8, 0.9, 1. ]),\n",
       " <BarContainer object of 10 artists>)"
      ]
     },
     "execution_count": 9,
     "metadata": {},
     "output_type": "execute_result"
    },
    {
     "data": {
      "image/png": "[encoded data removed]",
      "text/plain": [
       "<Figure size 432x288 with 1 Axes>"
      ]
     },
     "metadata": {
      "needs_background": "light"
     },
     "output_type": "display_data"
    }
   ],
   "source": [
    "fig,ax=plt.subplots(figsize=(6,4))\n",
    "ax.grid(False)\n",
    "ax.hist(file[\"heart_disease\"])"
   ]
  },
  {
   "cell_type": "code",
   "execution_count": 10,
   "id": "71e717ad",
   "metadata": {
    "execution": {
     "iopub.execute_input": "2022-06-10T08:22:11.175434Z",
     "iopub.status.busy": "2022-06-10T08:22:11.174651Z",
     "iopub.status.idle": "2022-06-10T08:22:11.343592Z",
     "shell.execute_reply": "2022-06-10T08:22:11.344192Z",
     "shell.execute_reply.started": "2022-05-05T12:03:48.715258Z"
    },
    "papermill": {
     "duration": 0.234815,
     "end_time": "2022-06-10T08:22:11.344385",
     "exception": false,
     "start_time": "2022-06-10T08:22:11.109570",
     "status": "completed"
    },
    "tags": []
   },
   "outputs": [
    {
     "data": {
      "text/plain": [
       "(array([3353.,    0.,    0.,    0.,    0.,    0.,    0.,    0.,    0.,\n",
       "        1757.]),\n",
       " array([0. , 0.1, 0.2, 0.3, 0.4, 0.5, 0.6, 0.7, 0.8, 0.9, 1. ]),\n",
       " <BarContainer object of 10 artists>)"
      ]
     },
     "execution_count": 10,
     "metadata": {},
     "output_type": "execute_result"
    },
    {
     "data": {
      "image/png": "[encoded data removed]",
      "text/plain": [
       "<Figure size 432x288 with 1 Axes>"
      ]
     },
     "metadata": {
      "needs_background": "light"
     },
     "output_type": "display_data"
    }
   ],
   "source": [
    "fig,ax=plt.subplots(figsize=(6,4))\n",
    "ax.grid(False)\n",
    "ax.hist(file[\"ever_married\"])"
   ]
  },
  {
   "cell_type": "code",
   "execution_count": 11,
   "id": "cd2eb62d",
   "metadata": {
    "execution": {
     "iopub.execute_input": "2022-06-10T08:22:11.413350Z",
     "iopub.status.busy": "2022-06-10T08:22:11.412648Z",
     "iopub.status.idle": "2022-06-10T08:22:11.616974Z",
     "shell.execute_reply": "2022-06-10T08:22:11.617560Z",
     "shell.execute_reply.started": "2022-05-05T12:03:49.162548Z"
    },
    "papermill": {
     "duration": 0.240462,
     "end_time": "2022-06-10T08:22:11.617743",
     "exception": false,
     "start_time": "2022-06-10T08:22:11.377281",
     "status": "completed"
    },
    "tags": []
   },
   "outputs": [
    {
     "data": {
      "text/plain": [
       "(array([2925.,    0.,  819.,    0.,    0.,  657.,    0.,  687.,    0.,\n",
       "          22.]),\n",
       " array([0. , 0.4, 0.8, 1.2, 1.6, 2. , 2.4, 2.8, 3.2, 3.6, 4. ]),\n",
       " <BarContainer object of 10 artists>)"
      ]
     },
     "execution_count": 11,
     "metadata": {},
     "output_type": "execute_result"
    },
    {
     "data": {
      "image/png": "[encoded data removed]",
      "text/plain": [
       "<Figure size 432x288 with 1 Axes>"
      ]
     },
     "metadata": {
      "needs_background": "light"
     },
     "output_type": "display_data"
    }
   ],
   "source": [
    "fig,ax=plt.subplots(figsize=(6,4))\n",
    "ax.grid(False)\n",
    "ax.hist(file[\"work_type\"])"
   ]
  },
  {
   "cell_type": "code",
   "execution_count": 12,
   "id": "c613a618",
   "metadata": {
    "execution": {
     "iopub.execute_input": "2022-06-10T08:22:11.691566Z",
     "iopub.status.busy": "2022-06-10T08:22:11.690827Z",
     "iopub.status.idle": "2022-06-10T08:22:11.868060Z",
     "shell.execute_reply": "2022-06-10T08:22:11.867425Z",
     "shell.execute_reply.started": "2022-05-05T12:03:49.651224Z"
    },
    "papermill": {
     "duration": 0.21617,
     "end_time": "2022-06-10T08:22:11.868239",
     "exception": false,
     "start_time": "2022-06-10T08:22:11.652069",
     "status": "completed"
    },
    "tags": []
   },
   "outputs": [
    {
     "data": {
      "text/plain": [
       "(array([2596.,    0.,    0.,    0.,    0.,    0.,    0.,    0.,    0.,\n",
       "        2514.]),\n",
       " array([0. , 0.1, 0.2, 0.3, 0.4, 0.5, 0.6, 0.7, 0.8, 0.9, 1. ]),\n",
       " <BarContainer object of 10 artists>)"
      ]
     },
     "execution_count": 12,
     "metadata": {},
     "output_type": "execute_result"
    },
    {
     "data": {
      "image/png": "[encoded data removed]",
      "text/plain": [
       "<Figure size 432x288 with 1 Axes>"
      ]
     },
     "metadata": {
      "needs_background": "light"
     },
     "output_type": "display_data"
    }
   ],
   "source": [
    "fig,ax=plt.subplots(figsize=(6,4))\n",
    "ax.grid(False)\n",
    "ax.hist(file[\"Residence_type\"])"
   ]
  },
  {
   "cell_type": "code",
   "execution_count": 13,
   "id": "5bcd16fb",
   "metadata": {
    "execution": {
     "iopub.execute_input": "2022-06-10T08:22:11.967453Z",
     "iopub.status.busy": "2022-06-10T08:22:11.958782Z",
     "iopub.status.idle": "2022-06-10T08:22:12.154818Z",
     "shell.execute_reply": "2022-06-10T08:22:12.154173Z",
     "shell.execute_reply.started": "2022-05-05T12:03:50.129807Z"
    },
    "papermill": {
     "duration": 0.251135,
     "end_time": "2022-06-10T08:22:12.154960",
     "exception": false,
     "start_time": "2022-06-10T08:22:11.903825",
     "status": "completed"
    },
    "tags": []
   },
   "outputs": [
    {
     "data": {
      "text/plain": [
       "(array([ 885.,    0.,    0., 1892.,    0.,    0.,  789.,    0.,    0.,\n",
       "        1544.]),\n",
       " array([0. , 0.3, 0.6, 0.9, 1.2, 1.5, 1.8, 2.1, 2.4, 2.7, 3. ]),\n",
       " <BarContainer object of 10 artists>)"
      ]
     },
     "execution_count": 13,
     "metadata": {},
     "output_type": "execute_result"
    },
    {
     "data": {
      "image/png": "[encoded data removed]",
      "text/plain": [
       "<Figure size 432x288 with 1 Axes>"
      ]
     },
     "metadata": {
      "needs_background": "light"
     },
     "output_type": "display_data"
    }
   ],
   "source": [
    "fig,ax=plt.subplots(figsize=(6,4))\n",
    "ax.grid(False)\n",
    "ax.hist(file[\"smoking_status\"])"
   ]
  },
  {
   "cell_type": "code",
   "execution_count": 14,
   "id": "04f53299",
   "metadata": {
    "execution": {
     "iopub.execute_input": "2022-06-10T08:22:12.230139Z",
     "iopub.status.busy": "2022-06-10T08:22:12.229493Z",
     "iopub.status.idle": "2022-06-10T08:22:12.445901Z",
     "shell.execute_reply": "2022-06-10T08:22:12.445329Z",
     "shell.execute_reply.started": "2022-05-05T12:03:50.649989Z"
    },
    "papermill": {
     "duration": 0.255166,
     "end_time": "2022-06-10T08:22:12.446055",
     "exception": false,
     "start_time": "2022-06-10T08:22:12.190889",
     "status": "completed"
    },
    "tags": []
   },
   "outputs": [
    {
     "data": {
      "text/plain": [
       "(array([1250., 1790.,  956.,  310.,  154.,   91.,  209.,  217.,  108.,\n",
       "          25.]),\n",
       " array([ 55.12 ,  76.782,  98.444, 120.106, 141.768, 163.43 , 185.092,\n",
       "        206.754, 228.416, 250.078, 271.74 ]),\n",
       " <BarContainer object of 10 artists>)"
      ]
     },
     "execution_count": 14,
     "metadata": {},
     "output_type": "execute_result"
    },
    {
     "data": {
      "image/png": "[encoded data removed]",
      "text/plain": [
       "<Figure size 432x288 with 1 Axes>"
      ]
     },
     "metadata": {
      "needs_background": "light"
     },
     "output_type": "display_data"
    }
   ],
   "source": [
    "fig,ax=plt.subplots(figsize=(6,4))\n",
    "ax.grid(False)\n",
    "ax.hist(file[\"avg_glucose_level\"])"
   ]
  },
  {
   "cell_type": "code",
   "execution_count": 15,
   "id": "ffa9b129",
   "metadata": {
    "execution": {
     "iopub.execute_input": "2022-06-10T08:22:12.527452Z",
     "iopub.status.busy": "2022-06-10T08:22:12.526398Z",
     "iopub.status.idle": "2022-06-10T08:22:12.768272Z",
     "shell.execute_reply": "2022-06-10T08:22:12.768770Z",
     "shell.execute_reply.started": "2022-05-05T12:03:51.354189Z"
    },
    "papermill": {
     "duration": 0.286201,
     "end_time": "2022-06-10T08:22:12.768959",
     "exception": false,
     "start_time": "2022-06-10T08:22:12.482758",
     "status": "completed"
    },
    "tags": []
   },
   "outputs": [
    {
     "data": {
      "text/plain": [
       "(array([4.110e+02, 1.964e+03, 2.010e+03, 5.750e+02, 1.050e+02, 3.700e+01,\n",
       "        4.000e+00, 2.000e+00, 0.000e+00, 2.000e+00]),\n",
       " array([10.3 , 19.03, 27.76, 36.49, 45.22, 53.95, 62.68, 71.41, 80.14,\n",
       "        88.87, 97.6 ]),\n",
       " <BarContainer object of 10 artists>)"
      ]
     },
     "execution_count": 15,
     "metadata": {},
     "output_type": "execute_result"
    },
    {
     "data": {
      "image/png": "[encoded data removed]",
      "text/plain": [
       "<Figure size 432x288 with 1 Axes>"
      ]
     },
     "metadata": {
      "needs_background": "light"
     },
     "output_type": "display_data"
    }
   ],
   "source": [
    "fig,ax=plt.subplots(figsize=(6,4))\n",
    "ax.grid(False)\n",
    "ax.hist(file[\"bmi\"])"
   ]
  },
  {
   "cell_type": "code",
   "execution_count": 16,
   "id": "a0236ce6",
   "metadata": {
    "execution": {
     "iopub.execute_input": "2022-06-10T08:22:12.856838Z",
     "iopub.status.busy": "2022-06-10T08:22:12.855833Z",
     "iopub.status.idle": "2022-06-10T08:22:13.069792Z",
     "shell.execute_reply": "2022-06-10T08:22:13.070318Z",
     "shell.execute_reply.started": "2022-05-05T12:03:53.14897Z"
    },
    "papermill": {
     "duration": 0.257633,
     "end_time": "2022-06-10T08:22:13.070490",
     "exception": false,
     "start_time": "2022-06-10T08:22:12.812857",
     "status": "completed"
    },
    "tags": []
   },
   "outputs": [
    {
     "data": {
      "text/plain": [
       "(array([4861.,    0.,    0.,    0.,    0.,    0.,    0.,    0.,    0.,\n",
       "         249.]),\n",
       " array([0. , 0.1, 0.2, 0.3, 0.4, 0.5, 0.6, 0.7, 0.8, 0.9, 1. ]),\n",
       " <BarContainer object of 10 artists>)"
      ]
     },
     "execution_count": 16,
     "metadata": {},
     "output_type": "execute_result"
    },
    {
     "data": {
      "image/png": "[encoded data removed]",
      "text/plain": [
       "<Figure size 432x288 with 1 Axes>"
      ]
     },
     "metadata": {
      "needs_background": "light"
     },
     "output_type": "display_data"
    }
   ],
   "source": [
    "fig,ax=plt.subplots(figsize=(6,4))\n",
    "ax.grid(False)\n",
    "ax.hist(file[\"stroke\"])"
   ]
  },
  {
   "cell_type": "code",
   "execution_count": 17,
   "id": "44651045",
   "metadata": {
    "execution": {
     "iopub.execute_input": "2022-06-10T08:22:13.154042Z",
     "iopub.status.busy": "2022-06-10T08:22:13.153060Z",
     "iopub.status.idle": "2022-06-10T08:22:13.185123Z",
     "shell.execute_reply": "2022-06-10T08:22:13.184600Z",
     "shell.execute_reply.started": "2022-05-05T12:03:53.372815Z"
    },
    "papermill": {
     "duration": 0.075325,
     "end_time": "2022-06-10T08:22:13.185285",
     "exception": false,
     "start_time": "2022-06-10T08:22:13.109960",
     "status": "completed"
    },
    "tags": []
   },
   "outputs": [
    {
     "data": {
      "text/html": [
       "<div>\n",
       "<style scoped>\n",
       "    .dataframe tbody tr th:only-of-type {\n",
       "        vertical-align: middle;\n",
       "    }\n",
       "\n",
       "    .dataframe tbody tr th {\n",
       "        vertical-align: top;\n",
       "    }\n",
       "\n",
       "    .dataframe thead th {\n",
       "        text-align: right;\n",
       "    }\n",
       "</style>\n",
       "<table border=\"1\" class=\"dataframe\">\n",
       "  <thead>\n",
       "    <tr style=\"text-align: right;\">\n",
       "      <th></th>\n",
       "      <th>gender</th>\n",
       "      <th>age</th>\n",
       "      <th>hypertension</th>\n",
       "      <th>heart_disease</th>\n",
       "      <th>ever_married</th>\n",
       "      <th>work_type</th>\n",
       "      <th>Residence_type</th>\n",
       "      <th>avg_glucose_level</th>\n",
       "      <th>bmi</th>\n",
       "      <th>smoking_status</th>\n",
       "      <th>stroke</th>\n",
       "    </tr>\n",
       "  </thead>\n",
       "  <tbody>\n",
       "    <tr>\n",
       "      <th>0</th>\n",
       "      <td>Male</td>\n",
       "      <td>67.0</td>\n",
       "      <td>0</td>\n",
       "      <td>1</td>\n",
       "      <td>Yes</td>\n",
       "      <td>Private</td>\n",
       "      <td>Urban</td>\n",
       "      <td>228.69</td>\n",
       "      <td>36.600000</td>\n",
       "      <td>formerly smoked</td>\n",
       "      <td>1</td>\n",
       "    </tr>\n",
       "    <tr>\n",
       "      <th>1</th>\n",
       "      <td>Female</td>\n",
       "      <td>61.0</td>\n",
       "      <td>0</td>\n",
       "      <td>0</td>\n",
       "      <td>Yes</td>\n",
       "      <td>Self-employed</td>\n",
       "      <td>Rural</td>\n",
       "      <td>202.21</td>\n",
       "      <td>28.893237</td>\n",
       "      <td>never smoked</td>\n",
       "      <td>1</td>\n",
       "    </tr>\n",
       "    <tr>\n",
       "      <th>2</th>\n",
       "      <td>Male</td>\n",
       "      <td>80.0</td>\n",
       "      <td>0</td>\n",
       "      <td>1</td>\n",
       "      <td>Yes</td>\n",
       "      <td>Private</td>\n",
       "      <td>Rural</td>\n",
       "      <td>105.92</td>\n",
       "      <td>32.500000</td>\n",
       "      <td>never smoked</td>\n",
       "      <td>1</td>\n",
       "    </tr>\n",
       "    <tr>\n",
       "      <th>3</th>\n",
       "      <td>Female</td>\n",
       "      <td>49.0</td>\n",
       "      <td>0</td>\n",
       "      <td>0</td>\n",
       "      <td>Yes</td>\n",
       "      <td>Private</td>\n",
       "      <td>Urban</td>\n",
       "      <td>171.23</td>\n",
       "      <td>34.400000</td>\n",
       "      <td>smokes</td>\n",
       "      <td>1</td>\n",
       "    </tr>\n",
       "    <tr>\n",
       "      <th>4</th>\n",
       "      <td>Female</td>\n",
       "      <td>79.0</td>\n",
       "      <td>1</td>\n",
       "      <td>0</td>\n",
       "      <td>Yes</td>\n",
       "      <td>Self-employed</td>\n",
       "      <td>Rural</td>\n",
       "      <td>174.12</td>\n",
       "      <td>24.000000</td>\n",
       "      <td>never smoked</td>\n",
       "      <td>1</td>\n",
       "    </tr>\n",
       "    <tr>\n",
       "      <th>...</th>\n",
       "      <td>...</td>\n",
       "      <td>...</td>\n",
       "      <td>...</td>\n",
       "      <td>...</td>\n",
       "      <td>...</td>\n",
       "      <td>...</td>\n",
       "      <td>...</td>\n",
       "      <td>...</td>\n",
       "      <td>...</td>\n",
       "      <td>...</td>\n",
       "      <td>...</td>\n",
       "    </tr>\n",
       "    <tr>\n",
       "      <th>5105</th>\n",
       "      <td>Female</td>\n",
       "      <td>80.0</td>\n",
       "      <td>1</td>\n",
       "      <td>0</td>\n",
       "      <td>Yes</td>\n",
       "      <td>Private</td>\n",
       "      <td>Urban</td>\n",
       "      <td>83.75</td>\n",
       "      <td>28.893237</td>\n",
       "      <td>never smoked</td>\n",
       "      <td>0</td>\n",
       "    </tr>\n",
       "    <tr>\n",
       "      <th>5106</th>\n",
       "      <td>Female</td>\n",
       "      <td>81.0</td>\n",
       "      <td>0</td>\n",
       "      <td>0</td>\n",
       "      <td>Yes</td>\n",
       "      <td>Self-employed</td>\n",
       "      <td>Urban</td>\n",
       "      <td>125.20</td>\n",
       "      <td>40.000000</td>\n",
       "      <td>never smoked</td>\n",
       "      <td>0</td>\n",
       "    </tr>\n",
       "    <tr>\n",
       "      <th>5107</th>\n",
       "      <td>Female</td>\n",
       "      <td>35.0</td>\n",
       "      <td>0</td>\n",
       "      <td>0</td>\n",
       "      <td>Yes</td>\n",
       "      <td>Self-employed</td>\n",
       "      <td>Rural</td>\n",
       "      <td>82.99</td>\n",
       "      <td>30.600000</td>\n",
       "      <td>never smoked</td>\n",
       "      <td>0</td>\n",
       "    </tr>\n",
       "    <tr>\n",
       "      <th>5108</th>\n",
       "      <td>Male</td>\n",
       "      <td>51.0</td>\n",
       "      <td>0</td>\n",
       "      <td>0</td>\n",
       "      <td>Yes</td>\n",
       "      <td>Private</td>\n",
       "      <td>Rural</td>\n",
       "      <td>166.29</td>\n",
       "      <td>25.600000</td>\n",
       "      <td>formerly smoked</td>\n",
       "      <td>0</td>\n",
       "    </tr>\n",
       "    <tr>\n",
       "      <th>5109</th>\n",
       "      <td>Female</td>\n",
       "      <td>44.0</td>\n",
       "      <td>0</td>\n",
       "      <td>0</td>\n",
       "      <td>Yes</td>\n",
       "      <td>Govt_job</td>\n",
       "      <td>Urban</td>\n",
       "      <td>85.28</td>\n",
       "      <td>26.200000</td>\n",
       "      <td>Unknown</td>\n",
       "      <td>0</td>\n",
       "    </tr>\n",
       "  </tbody>\n",
       "</table>\n",
       "<p>5110 rows × 11 columns</p>\n",
       "</div>"
      ],
      "text/plain": [
       "      gender   age  hypertension  heart_disease ever_married      work_type  \\\n",
       "0       Male  67.0             0              1          Yes        Private   \n",
       "1     Female  61.0             0              0          Yes  Self-employed   \n",
       "2       Male  80.0             0              1          Yes        Private   \n",
       "3     Female  49.0             0              0          Yes        Private   \n",
       "4     Female  79.0             1              0          Yes  Self-employed   \n",
       "...      ...   ...           ...            ...          ...            ...   \n",
       "5105  Female  80.0             1              0          Yes        Private   \n",
       "5106  Female  81.0             0              0          Yes  Self-employed   \n",
       "5107  Female  35.0             0              0          Yes  Self-employed   \n",
       "5108    Male  51.0             0              0          Yes        Private   \n",
       "5109  Female  44.0             0              0          Yes       Govt_job   \n",
       "\n",
       "     Residence_type  avg_glucose_level        bmi   smoking_status  stroke  \n",
       "0             Urban             228.69  36.600000  formerly smoked       1  \n",
       "1             Rural             202.21  28.893237     never smoked       1  \n",
       "2             Rural             105.92  32.500000     never smoked       1  \n",
       "3             Urban             171.23  34.400000           smokes       1  \n",
       "4             Rural             174.12  24.000000     never smoked       1  \n",
       "...             ...                ...        ...              ...     ...  \n",
       "5105          Urban              83.75  28.893237     never smoked       0  \n",
       "5106          Urban             125.20  40.000000     never smoked       0  \n",
       "5107          Rural              82.99  30.600000     never smoked       0  \n",
       "5108          Rural             166.29  25.600000  formerly smoked       0  \n",
       "5109          Urban              85.28  26.200000          Unknown       0  \n",
       "\n",
       "[5110 rows x 11 columns]"
      ]
     },
     "execution_count": 17,
     "metadata": {},
     "output_type": "execute_result"
    }
   ],
   "source": [
    "file.drop([\"id\"], axis=1)"
   ]
  },
  {
   "cell_type": "code",
   "execution_count": 18,
   "id": "ded7b2db",
   "metadata": {
    "execution": {
     "iopub.execute_input": "2022-06-10T08:22:13.271015Z",
     "iopub.status.busy": "2022-06-10T08:22:13.269957Z",
     "iopub.status.idle": "2022-06-10T08:22:13.286350Z",
     "shell.execute_reply": "2022-06-10T08:22:13.286884Z",
     "shell.execute_reply.started": "2022-05-05T12:03:53.404356Z"
    },
    "papermill": {
     "duration": 0.060161,
     "end_time": "2022-06-10T08:22:13.287059",
     "exception": false,
     "start_time": "2022-06-10T08:22:13.226898",
     "status": "completed"
    },
    "tags": []
   },
   "outputs": [],
   "source": [
    "Encoder=LabelEncoder()\n",
    "for col in file:\n",
    "    if file[col].dtype==\"object\":\n",
    "       file[col]=Encoder.fit_transform(file[col])"
   ]
  },
  {
   "cell_type": "code",
   "execution_count": 19,
   "id": "faa37bac",
   "metadata": {
    "execution": {
     "iopub.execute_input": "2022-06-10T08:22:13.371064Z",
     "iopub.status.busy": "2022-06-10T08:22:13.370033Z",
     "iopub.status.idle": "2022-06-10T08:22:13.385866Z",
     "shell.execute_reply": "2022-06-10T08:22:13.386649Z",
     "shell.execute_reply.started": "2022-05-05T12:03:55.187228Z"
    },
    "papermill": {
     "duration": 0.059829,
     "end_time": "2022-06-10T08:22:13.386880",
     "exception": false,
     "start_time": "2022-06-10T08:22:13.327051",
     "status": "completed"
    },
    "tags": []
   },
   "outputs": [
    {
     "name": "stdout",
     "output_type": "stream",
     "text": [
      "         id  gender   age  hypertension  heart_disease  ever_married  \\\n",
      "0      9046       1  67.0             0              1             1   \n",
      "1     51676       0  61.0             0              0             1   \n",
      "2     31112       1  80.0             0              1             1   \n",
      "3     60182       0  49.0             0              0             1   \n",
      "4      1665       0  79.0             1              0             1   \n",
      "...     ...     ...   ...           ...            ...           ...   \n",
      "5105  18234       0  80.0             1              0             1   \n",
      "5106  44873       0  81.0             0              0             1   \n",
      "5107  19723       0  35.0             0              0             1   \n",
      "5108  37544       1  51.0             0              0             1   \n",
      "5109  44679       0  44.0             0              0             1   \n",
      "\n",
      "      work_type  Residence_type  avg_glucose_level        bmi  smoking_status  \n",
      "0             2               1             228.69  36.600000               1  \n",
      "1             3               0             202.21  28.893237               2  \n",
      "2             2               0             105.92  32.500000               2  \n",
      "3             2               1             171.23  34.400000               3  \n",
      "4             3               0             174.12  24.000000               2  \n",
      "...         ...             ...                ...        ...             ...  \n",
      "5105          2               1              83.75  28.893237               2  \n",
      "5106          3               1             125.20  40.000000               2  \n",
      "5107          3               0              82.99  30.600000               2  \n",
      "5108          2               0             166.29  25.600000               1  \n",
      "5109          0               1              85.28  26.200000               0  \n",
      "\n",
      "[5110 rows x 11 columns]\n",
      "0       1\n",
      "1       1\n",
      "2       1\n",
      "3       1\n",
      "4       1\n",
      "       ..\n",
      "5105    0\n",
      "5106    0\n",
      "5107    0\n",
      "5108    0\n",
      "5109    0\n",
      "Name: stroke, Length: 5110, dtype: int64\n"
     ]
    }
   ],
   "source": [
    "X= file.drop([\"stroke\"], axis=1)\n",
    "Y= file[\"stroke\"]\n",
    "print(X)\n",
    "print(Y)"
   ]
  },
  {
   "cell_type": "markdown",
   "id": "fcb7c5f9",
   "metadata": {
    "papermill": {
     "duration": 0.039748,
     "end_time": "2022-06-10T08:22:13.469085",
     "exception": false,
     "start_time": "2022-06-10T08:22:13.429337",
     "status": "completed"
    },
    "tags": []
   },
   "source": [
    "Split data to test and train"
   ]
  },
  {
   "cell_type": "code",
   "execution_count": 20,
   "id": "972b2a67",
   "metadata": {
    "execution": {
     "iopub.execute_input": "2022-06-10T08:22:13.557136Z",
     "iopub.status.busy": "2022-06-10T08:22:13.556064Z",
     "iopub.status.idle": "2022-06-10T08:22:13.564592Z",
     "shell.execute_reply": "2022-06-10T08:22:13.563973Z",
     "shell.execute_reply.started": "2022-05-05T12:03:55.208972Z"
    },
    "papermill": {
     "duration": 0.051746,
     "end_time": "2022-06-10T08:22:13.564753",
     "exception": false,
     "start_time": "2022-06-10T08:22:13.513007",
     "status": "completed"
    },
    "tags": []
   },
   "outputs": [],
   "source": [
    "X_train,X_test,Y_train, Y_test= train_test_split(X,Y, random_state= 200, test_size=0.3)"
   ]
  },
  {
   "cell_type": "markdown",
   "id": "84836cbd",
   "metadata": {
    "papermill": {
     "duration": 0.040236,
     "end_time": "2022-06-10T08:22:13.646830",
     "exception": false,
     "start_time": "2022-06-10T08:22:13.606594",
     "status": "completed"
    },
    "tags": []
   },
   "source": [
    "Model Building"
   ]
  },
  {
   "cell_type": "code",
   "execution_count": 21,
   "id": "610bf072",
   "metadata": {
    "execution": {
     "iopub.execute_input": "2022-06-10T08:22:13.736006Z",
     "iopub.status.busy": "2022-06-10T08:22:13.735316Z",
     "iopub.status.idle": "2022-06-10T08:23:15.622174Z",
     "shell.execute_reply": "2022-06-10T08:23:15.622750Z",
     "shell.execute_reply.started": "2022-05-05T12:03:55.466457Z"
    },
    "papermill": {
     "duration": 61.935764,
     "end_time": "2022-06-10T08:23:15.622948",
     "exception": false,
     "start_time": "2022-06-10T08:22:13.687184",
     "status": "completed"
    },
    "tags": []
   },
   "outputs": [
    {
     "name": "stdout",
     "output_type": "stream",
     "text": [
      "Model: RandomForestClassifier(random_state=101)\n",
      "Accuracy: 0.954337899543379\n",
      "F1-score: 0.0\n",
      "\n",
      "\n",
      "Classification Report\n",
      "              precision    recall  f1-score   support\n",
      "\n",
      "           0       0.96      1.00      0.98      1466\n",
      "           1       0.00      0.00      0.00        67\n",
      "\n",
      "    accuracy                           0.95      1533\n",
      "   macro avg       0.48      0.50      0.49      1533\n",
      "weighted avg       0.91      0.95      0.93      1533\n",
      "\n",
      "Model: DecisionTreeClassifier(random_state=14)\n",
      "Accuracy: 0.9119373776908023\n",
      "F1-score: 0.11764705882352941\n",
      "\n",
      "\n",
      "Classification Report\n",
      "              precision    recall  f1-score   support\n",
      "\n",
      "           0       0.96      0.95      0.95      1466\n",
      "           1       0.10      0.13      0.12        67\n",
      "\n",
      "    accuracy                           0.91      1533\n",
      "   macro avg       0.53      0.54      0.54      1533\n",
      "weighted avg       0.92      0.91      0.92      1533\n",
      "\n",
      "Model: SVC(kernel='linear')\n",
      "Accuracy: 0.949119373776908\n",
      "F1-score: 0.048780487804878044\n",
      "\n",
      "\n",
      "Classification Report\n",
      "              precision    recall  f1-score   support\n",
      "\n",
      "           0       0.96      0.99      0.97      1466\n",
      "           1       0.13      0.03      0.05        67\n",
      "\n",
      "    accuracy                           0.95      1533\n",
      "   macro avg       0.55      0.51      0.51      1533\n",
      "weighted avg       0.92      0.95      0.93      1533\n",
      "\n",
      "\n",
      "\n"
     ]
    },
    {
     "data": {
      "image/png": "[encoded data removed]",
      "text/plain": [
       "<Figure size 432x288 with 2 Axes>"
      ]
     },
     "metadata": {
      "needs_background": "light"
     },
     "output_type": "display_data"
    },
    {
     "data": {
      "image/png": "[encoded data removed]",
      "text/plain": [
       "<Figure size 432x288 with 2 Axes>"
      ]
     },
     "metadata": {
      "needs_background": "light"
     },
     "output_type": "display_data"
    },
    {
     "data": {
      "image/png": "[encoded data removed]",
      "text/plain": [
       "<Figure size 432x288 with 2 Axes>"
      ]
     },
     "metadata": {
      "needs_background": "light"
     },
     "output_type": "display_data"
    }
   ],
   "source": [
    "def model_building():\n",
    "    models=[]\n",
    "    accuracy=[]\n",
    "    f1score=[]\n",
    "    \n",
    "    models.append(RandomForestClassifier(random_state=101))\n",
    "    models.append(DecisionTreeClassifier(random_state= 14 ))\n",
    "    models.append(SVC(kernel =\"linear\"))\n",
    "    \n",
    "    \n",
    "    for model in models:\n",
    "        \n",
    "        # Train Model\n",
    "        model.fit(X_train, Y_train)\n",
    "        \n",
    "        # Test Model\n",
    "        pred=model.predict(X_test)\n",
    "        \n",
    "        #Model Accuracy and F1_Score\n",
    "        accuracy.append((round(accuracy_score(Y_test, pred), 2))*100)\n",
    "        f1score.append((round(f1_score(Y_test, pred), 2))*100)\n",
    "        \n",
    "        print(f'Model: {model}\\nAccuracy: {accuracy_score(Y_test, pred)}\\nF1-score: {f1_score(Y_test, pred)}\\n\\n')\n",
    "    \n",
    "        #Model Classification Report\n",
    "        print(\"Classification Report\")\n",
    "        print(classification_report(Y_test,pred))\n",
    "        \n",
    "        \n",
    "        clf=confusion_matrix(Y_test, pred)\n",
    "        fig,ax=plt.subplots(figsize=(6,4))\n",
    "        plt.title(\"Confusion Matrix\")\n",
    "        sns.heatmap(clf,annot=True, cmap=\"Blues\")    \n",
    "\n",
    "        \"\"\"if model == \"RandomForestClassifier\":    \n",
    "                # Model Feature Importance\n",
    "                explainer = shap.TreeExplainer(model)\n",
    "\n",
    "                shap_values = explainer.shap_values(X_test)\n",
    "                fig,ax=plt.subplots(figsize=(6,4))\n",
    "                plt.title(\"Feature Importance \")\n",
    "                shap.summary_plot(shap_values, X_test, plot_type='bar', plot_size='auto')\"\"\"\n",
    "   \n",
    "    print(\"\\n\")\n",
    "model_building()"
   ]
  },
  {
   "cell_type": "code",
   "execution_count": 22,
   "id": "3599d5d6",
   "metadata": {
    "execution": {
     "iopub.execute_input": "2022-06-10T08:23:15.724807Z",
     "iopub.status.busy": "2022-06-10T08:23:15.724067Z",
     "iopub.status.idle": "2022-06-10T08:23:16.718025Z",
     "shell.execute_reply": "2022-06-10T08:23:16.717521Z",
     "shell.execute_reply.started": "2022-05-05T12:04:59.00821Z"
    },
    "papermill": {
     "duration": 1.050515,
     "end_time": "2022-06-10T08:23:16.718164",
     "exception": false,
     "start_time": "2022-06-10T08:23:15.667649",
     "status": "completed"
    },
    "tags": []
   },
   "outputs": [
    {
     "name": "stdout",
     "output_type": "stream",
     "text": [
      "Model: DecisionTreeClassifier(random_state=100)\n",
      "Accuracy: 0.9106327462491846\n",
      "F1-score: 0.1045751633986928\n",
      "\n",
      "\n",
      "Classification Report\n",
      "              precision    recall  f1-score   support\n",
      "\n",
      "           0       0.96      0.95      0.95      1466\n",
      "           1       0.09      0.12      0.10        67\n",
      "\n",
      "    accuracy                           0.91      1533\n",
      "   macro avg       0.53      0.53      0.53      1533\n",
      "weighted avg       0.92      0.91      0.92      1533\n",
      "\n",
      "Model: RandomForestClassifier(random_state=100)\n",
      "Accuracy: 0.9549902152641878\n",
      "F1-score: 0.0\n",
      "\n",
      "\n",
      "Classification Report\n",
      "              precision    recall  f1-score   support\n",
      "\n",
      "           0       0.96      1.00      0.98      1466\n",
      "           1       0.00      0.00      0.00        67\n",
      "\n",
      "    accuracy                           0.95      1533\n",
      "   macro avg       0.48      0.50      0.49      1533\n",
      "weighted avg       0.91      0.95      0.93      1533\n",
      "\n"
     ]
    },
    {
     "data": {
      "image/png": "[encoded data removed]",
      "text/plain": [
       "<Figure size 432x288 with 2 Axes>"
      ]
     },
     "metadata": {
      "needs_background": "light"
     },
     "output_type": "display_data"
    },
    {
     "data": {
      "image/png": "[encoded data removed]",
      "text/plain": [
       "<Figure size 432x288 with 2 Axes>"
      ]
     },
     "metadata": {
      "needs_background": "light"
     },
     "output_type": "display_data"
    }
   ],
   "source": [
    "def model_building():\n",
    "    models = []\n",
    "    accuracy = []\n",
    "    f1score = []\n",
    "    \n",
    "    models.append(DecisionTreeClassifier(random_state= 100))\n",
    "    models.append(RandomForestClassifier(random_state = 100))\n",
    "    #models.append(SVC(kernel= \"linear\"))\n",
    "    \n",
    "    \n",
    "    for model in models:\n",
    "        # Train Model\n",
    "        model.fit(X_train, Y_train)\n",
    "        \n",
    "        # Test Model\n",
    "        pred=model.predict(X_test)\n",
    "        \n",
    "        #Model Accuracy and F1_Score\n",
    "        accuracy.append((round(accuracy_score(Y_test, pred), 2))*100)\n",
    "        f1score.append((round(f1_score(Y_test, pred), 2))*100)\n",
    "        \n",
    "        print(f'Model: {model}\\nAccuracy: {accuracy_score(Y_test, pred)}\\nF1-score: {f1_score(Y_test, pred)}\\n\\n')\n",
    "    \n",
    "        #Model Classification Report\n",
    "        print(\"Classification Report\")\n",
    "        print(classification_report(Y_test,pred))\n",
    "        \n",
    "        \n",
    "        clf=confusion_matrix(Y_test, pred)\n",
    "        fig,ax=plt.subplots(figsize=(6,4))\n",
    "        plt.title(\"Confusion Matrix\")\n",
    "        sns.heatmap(clf,annot=True, cmap=\"Blues\")\n",
    "        \n",
    "        \n",
    "model_building()"
   ]
  }
 ],
 "metadata": {
  "kernelspec": {
   "display_name": "Python 3",
   "language": "python",
   "name": "python3"
  },
  "language_info": {
   "codemirror_mode": {
    "name": "ipython",
    "version": 3
   },
   "file_extension": ".py",
   "mimetype": "text/x-python",
   "name": "python",
   "nbconvert_exporter": "python",
   "pygments_lexer": "ipython3",
   "version": "3.7.12"
  },
  "papermill": {
   "default_parameters": {},
   "duration": 81.860824,
   "end_time": "2022-06-10T08:23:17.678879",
   "environment_variables": {},
   "exception": null,
   "input_path": "__notebook__.ipynb",
   "output_path": "__notebook__.ipynb",
   "parameters": {},
   "start_time": "2022-06-10T08:21:55.818055",
   "version": "2.3.3"
  }
 },
 "nbformat": 4,
 "nbformat_minor": 5
}
